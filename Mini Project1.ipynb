{
 "cells": [
  {
   "cell_type": "code",
   "execution_count": 4,
   "id": "76922f07",
   "metadata": {},
   "outputs": [
    {
     "name": "stdout",
     "output_type": "stream",
     "text": [
      "Enter number of employees: 5\n",
      "Enter Employee ID: 1\n",
      "Enter Gender: Male\n",
      "Enter Salary: 100000\n",
      "Enter Performance Rating (out of 5): 3\n",
      "Enter Date of Joining (YYYY-MM-DD): 2024-01-01\n",
      "Enter Employee ID: 2\n",
      "Enter Gender: Female\n",
      "Enter Salary: 300000\n",
      "Enter Performance Rating (out of 5): 3\n",
      "Enter Date of Joining (YYYY-MM-DD): 2024-02-01\n",
      "Enter Employee ID: 3\n",
      "Enter Gender: Male\n",
      "Enter Salary: 500000\n",
      "Enter Performance Rating (out of 5): 5\n",
      "Enter Date of Joining (YYYY-MM-DD): 2024-03-01\n",
      "Enter Employee ID: 4\n",
      "Enter Gender: Female\n",
      "Enter Salary: 80000\n",
      "Enter Performance Rating (out of 5): 2\n",
      "Enter Date of Joining (YYYY-MM-DD): 2024-04-02\n",
      "Enter Employee ID: 5\n",
      "Enter Gender: Male\n",
      "Enter Salary: 42000\n",
      "Enter Performance Rating (out of 5): 1\n",
      "Enter Date of Joining (YYYY-MM-DD): 2024-05-02\n",
      "\n",
      "Top 3 Employees based on Ratings:\n",
      "EmployeeID: 1, Gender: Male, Salary: 100000, Rating: 3, DateOfJoining: 2024-01-01\n",
      "EmployeeID: 2, Gender: Female, Salary: 300000, Rating: 3, DateOfJoining: 2024-02-01\n",
      "EmployeeID: 3, Gender: Male, Salary: 500000, Rating: 5, DateOfJoining: 2024-03-01\n"
     ]
    }
   ],
   "source": [
    "class Employee:\n",
    "    def __init__(self):\n",
    "        self.EmployeeID = 0\n",
    "        self.Gender = \"\"\n",
    "        self.Salary = 0\n",
    "        self.PerformanceRating = 0\n",
    "    \n",
    "    def get(self):\n",
    "        self.EmployeeID = int(input(\"Enter Employee ID: \"))\n",
    "        self.Gender = input(\"Enter Gender: \")\n",
    "        self.Salary = int(input(\"Enter Salary: \"))\n",
    "        self.PerformanceRating = int(input(\"Enter Performance Rating (out of 5): \"))\n",
    "\n",
    "class JoiningDetail:\n",
    "    def __init__(self):\n",
    "        self.DateOfJoining = \"\"\n",
    "    \n",
    "    def getDoJ(self):\n",
    "        self.DateOfJoining = input(\"Enter Date of Joining (YYYY-MM-DD): \")\n",
    "\n",
    "\n",
    "class Information(Employee, JoiningDetail):\n",
    "    def __init__(self):\n",
    "        Employee.__init__(self)\n",
    "        JoiningDetail.__init__(self)\n",
    "    \n",
    "    def readData(self):\n",
    "        employees = []\n",
    "        n = int(input(\"Enter number of employees: \"))\n",
    "        for _ in range(n):\n",
    "            emp = Information()\n",
    "            emp.get()\n",
    "            emp.getDoJ()\n",
    "            employees.append(emp)\n",
    "        \n",
    "        employees.sort(key=lambda x: x.PerformanceRating, reverse=True)\n",
    "        top_employees = employees[:3]\n",
    "        top_employees.sort(key=lambda x: x.DateOfJoining)\n",
    "        \n",
    "        print(\"\\nTop 3 Employees based on Ratings:\")\n",
    "        for emp in top_employees:\n",
    "            print(f\"EmployeeID: {emp.EmployeeID}, Gender: {emp.Gender}, Salary: {emp.Salary}, Rating: {emp.PerformanceRating}, DateOfJoining: {emp.DateOfJoining}\")\n",
    "\n",
    "info = Information()\n",
    "info.readData()\n"
   ]
  },
  {
   "cell_type": "code",
   "execution_count": null,
   "id": "0e02c9aa",
   "metadata": {},
   "outputs": [],
   "source": []
  }
 ],
 "metadata": {
  "kernelspec": {
   "display_name": "Python 3 (ipykernel)",
   "language": "python",
   "name": "python3"
  },
  "language_info": {
   "codemirror_mode": {
    "name": "ipython",
    "version": 3
   },
   "file_extension": ".py",
   "mimetype": "text/x-python",
   "name": "python",
   "nbconvert_exporter": "python",
   "pygments_lexer": "ipython3",
   "version": "3.9.12"
  }
 },
 "nbformat": 4,
 "nbformat_minor": 5
}
